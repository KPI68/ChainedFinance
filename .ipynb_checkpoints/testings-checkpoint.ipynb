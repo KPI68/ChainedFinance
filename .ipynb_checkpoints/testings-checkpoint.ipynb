{
 "cells": [
  {
   "cell_type": "code",
   "execution_count": 5,
   "id": "5028a012-506d-489b-b3e8-576224e3577c",
   "metadata": {},
   "outputs": [],
   "source": [
    "import json\n",
    "import os\n",
    "from web3 import Web3\n",
    "from pathlib import Path\n",
    "from dotenv import load_dotenv\n",
    "\n",
    "load_dotenv()\n",
    "w3 =  Web3(Web3.HTTPProvider(os.getenv(\"WEB3_PROVIDER_URI\")))\n",
    "    \n",
    "with open(Path('./contracts/compiled/acc_abi.json')) as f:\n",
    "    acc_abi = json.load(f)\n",
    "acc_contract_address = os.getenv(\"ACC_CONTRACT_ADDRESS\")\n",
    "acc_contract = w3.eth.contract(address=acc_contract_address, abi=acc_abi)"
   ]
  },
  {
   "cell_type": "code",
   "execution_count": 6,
   "id": "61f80e24-4644-4ae4-b48d-66d741ec6649",
   "metadata": {},
   "outputs": [],
   "source": [
    "msg_sender=\"0x48104AfC714D7F3af6696a1500289FEb3D196204\""
   ]
  },
  {
   "cell_type": "code",
   "execution_count": 7,
   "id": "41dec5c9-985c-47c1-a2d4-000622851fb6",
   "metadata": {},
   "outputs": [
    {
     "data": {
      "text/plain": [
       "Decimal('10')"
      ]
     },
     "execution_count": 7,
     "metadata": {},
     "output_type": "execute_result"
    }
   ],
   "source": [
    "bal_wei = acc_contract.functions.current_cash().call(\n",
    "        {   \"from\": msg_sender\n",
    "        }\n",
    "    )\n",
    "bal_eth = w3.fromWei(bal_wei,'ether')\n",
    "bal_eth"
   ]
  },
  {
   "cell_type": "code",
   "execution_count": 8,
   "id": "4a753cf9-d333-4ca6-8a43-8a7c8c7a2054",
   "metadata": {},
   "outputs": [],
   "source": [
    "earned_interest = float(w3.fromWei(acc_contract.functions.current_interest().call(\n",
    "        { \"from\": msg_sender \n",
    "        }\n",
    "    ), 'ether'))"
   ]
  },
  {
   "cell_type": "code",
   "execution_count": 9,
   "id": "ba7bb3d4-8936-4ea9-aeec-cbd73cb95cd1",
   "metadata": {},
   "outputs": [
    {
     "data": {
      "text/plain": [
       "0.01863013698630137"
      ]
     },
     "execution_count": 9,
     "metadata": {},
     "output_type": "execute_result"
    }
   ],
   "source": [
    "earned_interest"
   ]
  },
  {
   "cell_type": "code",
   "execution_count": null,
   "id": "d6714542-229d-45e9-a2fa-90bfd91c6b3d",
   "metadata": {},
   "outputs": [],
   "source": []
  }
 ],
 "metadata": {
  "kernelspec": {
   "display_name": "Python 3 (ipykernel)",
   "language": "python",
   "name": "python3"
  },
  "language_info": {
   "codemirror_mode": {
    "name": "ipython",
    "version": 3
   },
   "file_extension": ".py",
   "mimetype": "text/x-python",
   "name": "python",
   "nbconvert_exporter": "python",
   "pygments_lexer": "ipython3",
   "version": "3.8.16"
  }
 },
 "nbformat": 4,
 "nbformat_minor": 5
}
