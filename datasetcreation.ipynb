{
 "cells": [
  {
   "cell_type": "code",
   "execution_count": 1,
   "metadata": {},
   "outputs": [],
   "source": [
    "import pandas as pd\n",
    "import numpy as np\n",
    "\n",
    "np.random.seed(42)\n",
    "\n",
    "num_data_points = 5000\n",
    "\n",
    "data = {\n",
    "    'Age': np.round(np.random.randint(18, 65, num_data_points), 2),\n",
    "    'Income': np.round(np.random.randint(20000, 1000000, num_data_points), 2),\n",
    "    'Employment_Years': np.round(np.random.uniform(0, 45, num_data_points), 2),\n",
    "    'Education_Level': np.round(np.random.randint(1, 5, num_data_points), 2),\n",
    "    'Credit_Score': 0, \n",
    "    'Loan_Purpose': np.round(np.random.randint(1, 4, num_data_points), 2),\n",
    "    'Loan_Amount': np.round(np.random.randint(100, 100000, num_data_points), 2),\n",
    "    'Loan_Term_Days': np.round(np.random.randint(1, 365, num_data_points), 2),\n",
    "    'Number_of_Open_Accounts': np.round(np.random.randint(1, 15, num_data_points), 2),\n",
    "    'Outstanding Debt': np.round(np.random.randint(1, 75000, num_data_points), 2),\n",
    "}\n",
    "\n",
    "df = pd.DataFrame(data)\n",
    "\n",
    "df['DTI'] = np.round((df['Outstanding Debt'] / df['Income']) * 100, 2)\n",
    "\n",
    "# function to assign a random credit score based on DTI\n",
    "def assign_credit_score(row):\n",
    "    if row['Income'] > 60000 and row['DTI'] < 35 and row['Education_Level'] >= 3:\n",
    "        return np.random.randint(700, 900)  # Assign a good credit score\n",
    "    else:\n",
    "        return np.random.randint(300, 699)  # Assign a random credit score\n",
    "\n",
    "df['Credit_Score'] = df.apply(assign_credit_score, axis=1)\n",
    "\n",
    "df['Credit_Worthy'] = np.where((df['Credit_Score'] > 600) & (df['DTI'] <= 50), 1, 0)\n",
    "\n",
    "df.to_csv('credit_worthiness_dataset.csv', index=False)"
   ]
  },
  {
   "cell_type": "code",
   "execution_count": null,
   "metadata": {},
   "outputs": [],
   "source": []
  }
 ],
 "metadata": {
  "kernelspec": {
   "display_name": "base",
   "language": "python",
   "name": "python3"
  },
  "language_info": {
   "codemirror_mode": {
    "name": "ipython",
    "version": 3
   },
   "file_extension": ".py",
   "mimetype": "text/x-python",
   "name": "python",
   "nbconvert_exporter": "python",
   "pygments_lexer": "ipython3",
   "version": "3.10.9"
  },
  "orig_nbformat": 4
 },
 "nbformat": 4,
 "nbformat_minor": 2
}
